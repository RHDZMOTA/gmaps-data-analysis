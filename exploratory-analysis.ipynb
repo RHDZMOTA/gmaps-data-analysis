{
 "cells": [
  {
   "cell_type": "markdown",
   "metadata": {},
   "source": [
    "# GMAPS Data Analysis\n",
    "\n",
    "By: Rodrigo Hernández Mota"
   ]
  },
  {
   "cell_type": "markdown",
   "metadata": {},
   "source": [
    "This document performs an automated exploratory data analysis of google maps raw dataset. "
   ]
  },
  {
   "cell_type": "code",
   "execution_count": 129,
   "metadata": {
    "collapsed": false
   },
   "outputs": [],
   "source": [
    "%matplotlib inline\n",
    "\n",
    "import random\n",
    "import numpy as np\n",
    "import pandas as pd\n",
    "#import geopandas as gp\n",
    "import matplotlib.pyplot as plt\n",
    "\n",
    "from mpl_toolkits.basemap import Basemap\n",
    "from util.data_operations import get_dataset"
   ]
  },
  {
   "cell_type": "markdown",
   "metadata": {},
   "source": [
    "## Load data and description"
   ]
  },
  {
   "cell_type": "code",
   "execution_count": 2,
   "metadata": {
    "collapsed": false
   },
   "outputs": [
    {
     "name": "stdout",
     "output_type": "stream",
     "text": [
      "Data shape: (511365, 15)\n"
     ]
    }
   ],
   "source": [
    "df = get_dataset()\n",
    "print(\"Data shape: {}\".format(df.shape))"
   ]
  },
  {
   "cell_type": "code",
   "execution_count": 3,
   "metadata": {
    "collapsed": false
   },
   "outputs": [
    {
     "data": {
      "text/html": [
       "<div>\n",
       "<style>\n",
       "    .dataframe thead tr:only-child th {\n",
       "        text-align: right;\n",
       "    }\n",
       "\n",
       "    .dataframe thead th {\n",
       "        text-align: left;\n",
       "    }\n",
       "\n",
       "    .dataframe tbody tr th {\n",
       "        vertical-align: top;\n",
       "    }\n",
       "</style>\n",
       "<table border=\"1\" class=\"dataframe\">\n",
       "  <thead>\n",
       "    <tr style=\"text-align: right;\">\n",
       "      <th></th>\n",
       "      <th>EXITING_VEHICLE</th>\n",
       "      <th>IN_VEHICLE</th>\n",
       "      <th>ON_BICYCLE</th>\n",
       "      <th>ON_FOOT</th>\n",
       "      <th>RUNNING</th>\n",
       "      <th>STILL</th>\n",
       "      <th>TILTING</th>\n",
       "      <th>UNKNOWN</th>\n",
       "      <th>WALKING</th>\n",
       "      <th>accuracy</th>\n",
       "      <th>alt</th>\n",
       "      <th>lat</th>\n",
       "      <th>likely_activity</th>\n",
       "      <th>lng</th>\n",
       "      <th>timestamp</th>\n",
       "    </tr>\n",
       "  </thead>\n",
       "  <tbody>\n",
       "    <tr>\n",
       "      <th>0</th>\n",
       "      <td>0</td>\n",
       "      <td>57</td>\n",
       "      <td>0</td>\n",
       "      <td>0</td>\n",
       "      <td>0</td>\n",
       "      <td>43</td>\n",
       "      <td>0</td>\n",
       "      <td>0</td>\n",
       "      <td>0</td>\n",
       "      <td>24</td>\n",
       "      <td>1561.0</td>\n",
       "      <td>20.712508</td>\n",
       "      <td>IN_VEHICLE</td>\n",
       "      <td>-103.410124</td>\n",
       "      <td>1507742288644</td>\n",
       "    </tr>\n",
       "    <tr>\n",
       "      <th>1</th>\n",
       "      <td>0</td>\n",
       "      <td>30</td>\n",
       "      <td>0</td>\n",
       "      <td>0</td>\n",
       "      <td>0</td>\n",
       "      <td>21</td>\n",
       "      <td>0</td>\n",
       "      <td>50</td>\n",
       "      <td>0</td>\n",
       "      <td>24</td>\n",
       "      <td>1561.0</td>\n",
       "      <td>20.712508</td>\n",
       "      <td>UNKNOWN</td>\n",
       "      <td>-103.410124</td>\n",
       "      <td>1507742168348</td>\n",
       "    </tr>\n",
       "    <tr>\n",
       "      <th>2</th>\n",
       "      <td>0</td>\n",
       "      <td>30</td>\n",
       "      <td>0</td>\n",
       "      <td>0</td>\n",
       "      <td>0</td>\n",
       "      <td>21</td>\n",
       "      <td>0</td>\n",
       "      <td>50</td>\n",
       "      <td>0</td>\n",
       "      <td>24</td>\n",
       "      <td>1561.0</td>\n",
       "      <td>20.712508</td>\n",
       "      <td>UNKNOWN</td>\n",
       "      <td>-103.410124</td>\n",
       "      <td>1507742168348</td>\n",
       "    </tr>\n",
       "    <tr>\n",
       "      <th>3</th>\n",
       "      <td>0</td>\n",
       "      <td>54</td>\n",
       "      <td>0</td>\n",
       "      <td>0</td>\n",
       "      <td>0</td>\n",
       "      <td>46</td>\n",
       "      <td>0</td>\n",
       "      <td>0</td>\n",
       "      <td>0</td>\n",
       "      <td>24</td>\n",
       "      <td>1561.0</td>\n",
       "      <td>20.712508</td>\n",
       "      <td>IN_VEHICLE</td>\n",
       "      <td>-103.410124</td>\n",
       "      <td>1507742046707</td>\n",
       "    </tr>\n",
       "    <tr>\n",
       "      <th>4</th>\n",
       "      <td>0</td>\n",
       "      <td>26</td>\n",
       "      <td>0</td>\n",
       "      <td>0</td>\n",
       "      <td>0</td>\n",
       "      <td>24</td>\n",
       "      <td>0</td>\n",
       "      <td>50</td>\n",
       "      <td>0</td>\n",
       "      <td>23</td>\n",
       "      <td>1561.0</td>\n",
       "      <td>20.712508</td>\n",
       "      <td>UNKNOWN</td>\n",
       "      <td>-103.410124</td>\n",
       "      <td>1507741926568</td>\n",
       "    </tr>\n",
       "  </tbody>\n",
       "</table>\n",
       "</div>"
      ],
      "text/plain": [
       "   EXITING_VEHICLE  IN_VEHICLE  ON_BICYCLE  ON_FOOT  RUNNING  STILL  TILTING  \\\n",
       "0                0          57           0        0        0     43        0   \n",
       "1                0          30           0        0        0     21        0   \n",
       "2                0          30           0        0        0     21        0   \n",
       "3                0          54           0        0        0     46        0   \n",
       "4                0          26           0        0        0     24        0   \n",
       "\n",
       "   UNKNOWN  WALKING  accuracy     alt        lat likely_activity         lng  \\\n",
       "0        0        0        24  1561.0  20.712508      IN_VEHICLE -103.410124   \n",
       "1       50        0        24  1561.0  20.712508         UNKNOWN -103.410124   \n",
       "2       50        0        24  1561.0  20.712508         UNKNOWN -103.410124   \n",
       "3        0        0        24  1561.0  20.712508      IN_VEHICLE -103.410124   \n",
       "4       50        0        23  1561.0  20.712508         UNKNOWN -103.410124   \n",
       "\n",
       "       timestamp  \n",
       "0  1507742288644  \n",
       "1  1507742168348  \n",
       "2  1507742168348  \n",
       "3  1507742046707  \n",
       "4  1507741926568  "
      ]
     },
     "execution_count": 3,
     "metadata": {},
     "output_type": "execute_result"
    }
   ],
   "source": [
    "df.head()"
   ]
  },
  {
   "cell_type": "code",
   "execution_count": 4,
   "metadata": {
    "collapsed": false
   },
   "outputs": [
    {
     "name": "stdout",
     "output_type": "stream",
     "text": [
      "Columns and data types: \n",
      "\n",
      "EXITING_VEHICLE      int64\n",
      "IN_VEHICLE           int64\n",
      "ON_BICYCLE           int64\n",
      "ON_FOOT              int64\n",
      "RUNNING              int64\n",
      "STILL                int64\n",
      "TILTING              int64\n",
      "UNKNOWN              int64\n",
      "WALKING              int64\n",
      "accuracy             int64\n",
      "alt                float64\n",
      "lat                float64\n",
      "likely_activity     object\n",
      "lng                float64\n",
      "timestamp           object\n",
      "dtype: object\n"
     ]
    }
   ],
   "source": [
    "print(\"Columns and data types: \\n\\n\" + str(df.dtypes))"
   ]
  },
  {
   "cell_type": "markdown",
   "metadata": {},
   "source": [
    "**OVERVIEW**\n",
    "\n",
    "Each row in the datafame represents a sample given by Google Maps. This sample contains geographic data (coordinates), temporal data (timestamp) and activity detected. \n",
    "\n",
    "**ACTIVITY TYPES**\n",
    "\n",
    "At a given palce and time, Google's algorithms can detect a set of activities (denoted in the dataframe as the UPPERCASE columns). The value (int) of this columns represents the likelihood (probability) of occurence. The default activity when all columns are zero or less than 5 is UNKNOWN. \n",
    "\n",
    "The column named _likely_activity_ contains a string value representing the most probable activity for a given sample.\n",
    "\n",
    "**GEOGRAPHIC DATA**\n",
    "\n",
    "The geographic coordinates _lat_ (latitude), _lng_ (longitude) are aloways available for each data sample. To denote the quality of this data, the column _accuracy_ provides an insightful metric. Furthermore, the dataset contains the _altitude_ value.\n",
    "\n",
    "**TEMPORAL DATA**\n",
    "\n",
    "Each datapoint contains a timestamp measured as ms. "
   ]
  },
  {
   "cell_type": "markdown",
   "metadata": {},
   "source": [
    "## TIMESTAMP"
   ]
  },
  {
   "cell_type": "code",
   "execution_count": 5,
   "metadata": {
    "collapsed": false
   },
   "outputs": [],
   "source": [
    "df[\"timestamp\"] = df.timestamp.astype(int).values\n",
    "df = df.sort_values(\"timestamp\")"
   ]
  },
  {
   "cell_type": "markdown",
   "metadata": {},
   "source": [
    "We determine the frequency of the samples by calculating the time difference of the ordered datapoints. "
   ]
  },
  {
   "cell_type": "code",
   "execution_count": 6,
   "metadata": {
    "collapsed": false
   },
   "outputs": [
    {
     "data": {
      "text/html": [
       "<div>\n",
       "<style>\n",
       "    .dataframe thead tr:only-child th {\n",
       "        text-align: right;\n",
       "    }\n",
       "\n",
       "    .dataframe thead th {\n",
       "        text-align: left;\n",
       "    }\n",
       "\n",
       "    .dataframe tbody tr th {\n",
       "        vertical-align: top;\n",
       "    }\n",
       "</style>\n",
       "<table border=\"1\" class=\"dataframe\">\n",
       "  <thead>\n",
       "    <tr style=\"text-align: right;\">\n",
       "      <th></th>\n",
       "      <th>diff</th>\n",
       "    </tr>\n",
       "  </thead>\n",
       "  <tbody>\n",
       "    <tr>\n",
       "      <th>count</th>\n",
       "      <td>5.113640e+05</td>\n",
       "    </tr>\n",
       "    <tr>\n",
       "      <th>mean</th>\n",
       "      <td>1.799271e+05</td>\n",
       "    </tr>\n",
       "    <tr>\n",
       "      <th>std</th>\n",
       "      <td>8.288531e+05</td>\n",
       "    </tr>\n",
       "    <tr>\n",
       "      <th>min</th>\n",
       "      <td>0.000000e+00</td>\n",
       "    </tr>\n",
       "    <tr>\n",
       "      <th>25%</th>\n",
       "      <td>0.000000e+00</td>\n",
       "    </tr>\n",
       "    <tr>\n",
       "      <th>50%</th>\n",
       "      <td>6.114800e+04</td>\n",
       "    </tr>\n",
       "    <tr>\n",
       "      <th>75%</th>\n",
       "      <td>1.212120e+05</td>\n",
       "    </tr>\n",
       "    <tr>\n",
       "      <th>max</th>\n",
       "      <td>1.497735e+08</td>\n",
       "    </tr>\n",
       "  </tbody>\n",
       "</table>\n",
       "</div>"
      ],
      "text/plain": [
       "               diff\n",
       "count  5.113640e+05\n",
       "mean   1.799271e+05\n",
       "std    8.288531e+05\n",
       "min    0.000000e+00\n",
       "25%    0.000000e+00\n",
       "50%    6.114800e+04\n",
       "75%    1.212120e+05\n",
       "max    1.497735e+08"
      ]
     },
     "execution_count": 6,
     "metadata": {},
     "output_type": "execute_result"
    }
   ],
   "source": [
    "def get_diff(df, name=\"diff\"):\n",
    "    return pd.DataFrame(\n",
    "        df.timestamp.values[1:] - df.timestamp.values[:-1],\n",
    "        columns=[name])\n",
    "\n",
    "get_diff(df).describe()"
   ]
  },
  {
   "cell_type": "markdown",
   "metadata": {},
   "source": [
    "As it can be seen, the data contains several datapoints with 0 time-length. It can be assume this corresponds to the need of capture a more detailed dataset when the user is doing a relevant activity (such as driving). \n",
    "\n",
    "To test this assumption we can calculate the same time-difference while querying the dataframe with different activites. "
   ]
  },
  {
   "cell_type": "code",
   "execution_count": 7,
   "metadata": {
    "collapsed": false
   },
   "outputs": [
    {
     "data": {
      "text/html": [
       "<div>\n",
       "<style>\n",
       "    .dataframe thead tr:only-child th {\n",
       "        text-align: right;\n",
       "    }\n",
       "\n",
       "    .dataframe thead th {\n",
       "        text-align: left;\n",
       "    }\n",
       "\n",
       "    .dataframe tbody tr th {\n",
       "        vertical-align: top;\n",
       "    }\n",
       "</style>\n",
       "<table border=\"1\" class=\"dataframe\">\n",
       "  <thead>\n",
       "    <tr style=\"text-align: right;\">\n",
       "      <th></th>\n",
       "      <th>diff_driving</th>\n",
       "      <th>diff_still</th>\n",
       "    </tr>\n",
       "  </thead>\n",
       "  <tbody>\n",
       "    <tr>\n",
       "      <th>count</th>\n",
       "      <td>5.552400e+04</td>\n",
       "      <td>2.617080e+05</td>\n",
       "    </tr>\n",
       "    <tr>\n",
       "      <th>mean</th>\n",
       "      <td>1.656890e+06</td>\n",
       "      <td>3.515665e+05</td>\n",
       "    </tr>\n",
       "    <tr>\n",
       "      <th>std</th>\n",
       "      <td>9.201704e+06</td>\n",
       "      <td>1.217206e+06</td>\n",
       "    </tr>\n",
       "    <tr>\n",
       "      <th>min</th>\n",
       "      <td>0.000000e+00</td>\n",
       "      <td>0.000000e+00</td>\n",
       "    </tr>\n",
       "    <tr>\n",
       "      <th>25%</th>\n",
       "      <td>0.000000e+00</td>\n",
       "      <td>0.000000e+00</td>\n",
       "    </tr>\n",
       "    <tr>\n",
       "      <th>50%</th>\n",
       "      <td>0.000000e+00</td>\n",
       "      <td>6.843850e+04</td>\n",
       "    </tr>\n",
       "    <tr>\n",
       "      <th>75%</th>\n",
       "      <td>1.208030e+05</td>\n",
       "      <td>2.253178e+05</td>\n",
       "    </tr>\n",
       "    <tr>\n",
       "      <th>max</th>\n",
       "      <td>3.846063e+08</td>\n",
       "      <td>1.553336e+08</td>\n",
       "    </tr>\n",
       "  </tbody>\n",
       "</table>\n",
       "</div>"
      ],
      "text/plain": [
       "       diff_driving    diff_still\n",
       "count  5.552400e+04  2.617080e+05\n",
       "mean   1.656890e+06  3.515665e+05\n",
       "std    9.201704e+06  1.217206e+06\n",
       "min    0.000000e+00  0.000000e+00\n",
       "25%    0.000000e+00  0.000000e+00\n",
       "50%    0.000000e+00  6.843850e+04\n",
       "75%    1.208030e+05  2.253178e+05\n",
       "max    3.846063e+08  1.553336e+08"
      ]
     },
     "execution_count": 7,
     "metadata": {},
     "output_type": "execute_result"
    }
   ],
   "source": [
    "pd.concat(\n",
    "    [\n",
    "        get_diff(df.query(\"IN_VEHICLE > 50\"), \"diff_driving\").describe(),\n",
    "        get_diff(df.query(\"STILL > 50\"), \"diff_still\").describe()\n",
    "    ],\n",
    "    axis=1\n",
    ")"
   ]
  },
  {
   "cell_type": "markdown",
   "metadata": {},
   "source": [
    "The time difference while driving seems to present a much high sampling frequency than the time difference while being still (by seeing the values up to percentile 75%)."
   ]
  },
  {
   "cell_type": "markdown",
   "metadata": {},
   "source": [
    "## GEOGRAPHIC COORDINATES"
   ]
  },
  {
   "cell_type": "code",
   "execution_count": 43,
   "metadata": {
    "collapsed": false
   },
   "outputs": [],
   "source": [
    "def plot_in_map(df, region):\n",
    "    bmap = Basemap(projection='stere',\n",
    "               lon_0=df.lng.mean(),\n",
    "               lat_0=df.lat.mean(),\n",
    "               lat_ts=0,\n",
    "               llcrnrlat=region[\"low_limit\"].get(\"lat\"),\n",
    "               urcrnrlat=region[\"upper_limit\"].get(\"lat\"),\n",
    "               llcrnrlon=region[\"low_limit\"].get(\"lng\"),\n",
    "               urcrnrlon=region[\"upper_limit\"].get(\"lng\"),\n",
    "               rsphere=6371200.,resolution='l',area_thresh=10000\n",
    "              )\n",
    "    bmap.drawcoastlines()\n",
    "    bmap.drawstates()\n",
    "    bmap.drawcountries()\n",
    "\n",
    "\n",
    "    x, y = bmap(df.lng.values, df.lat.values)\n",
    "\n",
    "    bmap.scatter(x, y, marker='.',color='g')\n",
    "    plt.show()"
   ]
  },
  {
   "cell_type": "code",
   "execution_count": 44,
   "metadata": {
    "collapsed": false
   },
   "outputs": [],
   "source": [
    "mexico_usa_frame = {\n",
    "    \"low_limit\": {\n",
    "        \"lat\":9.968851 ,\n",
    "        \"lng\": -124.189453\n",
    "    },\n",
    "    \"upper_limit\": {\n",
    "        \"lat\": 60,\n",
    "        \"lng\": -63.017578\n",
    "    }\n",
    "}\n",
    "\n",
    "europe_frame = {}"
   ]
  },
  {
   "cell_type": "code",
   "execution_count": 46,
   "metadata": {
    "collapsed": false
   },
   "outputs": [
    {
     "name": "stderr",
     "output_type": "stream",
     "text": [
      "/home/rhdzmota/anaconda3/lib/python3.6/site-packages/mpl_toolkits/basemap/__init__.py:3222: MatplotlibDeprecationWarning: The ishold function was deprecated in version 2.0.\n",
      "  b = ax.ishold()\n",
      "/home/rhdzmota/anaconda3/lib/python3.6/site-packages/mpl_toolkits/basemap/__init__.py:3231: MatplotlibDeprecationWarning: axes.hold is deprecated.\n",
      "    See the API Changes document (http://matplotlib.org/api/api_changes.html)\n",
      "    for more details.\n",
      "  ax.hold(b)\n"
     ]
    },
    {
     "data": {
      "image/png": "[encoded data removed]",
      "text/plain": [
       "<matplotlib.figure.Figure at 0x7f2ac25d3be0>"
      ]
     },
     "metadata": {},
     "output_type": "display_data"
    }
   ],
   "source": [
    "plot_in_map(df, mexico_usa_frame)"
   ]
  },
  {
   "cell_type": "code",
   "execution_count": 24,
   "metadata": {
    "collapsed": false
   },
   "outputs": [
    {
     "data": {
      "image/png": "[encoded data removed]",
      "text/plain": [
       "<matplotlib.figure.Figure at 0x7f52bcbdb6a0>"
      ]
     },
     "metadata": {},
     "output_type": "display_data"
    }
   ],
   "source": [
    "df[[\"lat\", \"lng\"]].sample(frac=0.05).plot.hist(bins=50, alpha=0.6)\n",
    "plt.title(\"Distribution for lat-lon data\")\n",
    "plt.xlabel(\"Values\")\n",
    "plt.show()"
   ]
  },
  {
   "cell_type": "markdown",
   "metadata": {
    "collapsed": true
   },
   "source": [
    "In this histogram we can see that the mayority of the datapoints are around a specific coodinate pair."
   ]
  },
  {
   "cell_type": "markdown",
   "metadata": {},
   "source": [
    "## Distance"
   ]
  },
  {
   "cell_type": "code",
   "execution_count": 158,
   "metadata": {
    "collapsed": true
   },
   "outputs": [],
   "source": [
    "def degree_to_radian(degree):\n",
    "    return 2 * degree * np.pi / 360\n",
    "\n",
    "\n",
    "def harversine(x):\n",
    "    initial_coord, final_coord = x[[\"initial_lat\", \"initial_lng\"]].values, x[[\"final_lat\", \"final_lng\"]].values\n",
    "    r = 6371\n",
    "    initial_rads = list(map(degree_to_radian, initial_coord))\n",
    "    final_rads = list(map(degree_to_radian, final_coord))\n",
    "    delta_phi = final_rads[0] - initial_rads[0]\n",
    "    delta_lambda = initial_rads[1] - final_rads[1]\n",
    "    h = np.power(np.sin(delta_phi/2), 2) + \\\n",
    "        np.cos(initial_rads[0]) * np.cos(final_rads[0]) * \\\n",
    "        np.power(np.sin(delta_lambda/2), 2)\n",
    "    return 2*r*np.arcsin(np.sqrt(h))"
   ]
  },
  {
   "cell_type": "code",
   "execution_count": 33,
   "metadata": {
    "collapsed": false
   },
   "outputs": [
    {
     "data": {
      "text/html": [
       "<div>\n",
       "<style>\n",
       "    .dataframe thead tr:only-child th {\n",
       "        text-align: right;\n",
       "    }\n",
       "\n",
       "    .dataframe thead th {\n",
       "        text-align: left;\n",
       "    }\n",
       "\n",
       "    .dataframe tbody tr th {\n",
       "        vertical-align: top;\n",
       "    }\n",
       "</style>\n",
       "<table border=\"1\" class=\"dataframe\">\n",
       "  <thead>\n",
       "    <tr style=\"text-align: right;\">\n",
       "      <th></th>\n",
       "      <th>initial_lat</th>\n",
       "      <th>initial_lng</th>\n",
       "      <th>final_lat</th>\n",
       "      <th>final_lng</th>\n",
       "    </tr>\n",
       "  </thead>\n",
       "  <tbody>\n",
       "    <tr>\n",
       "      <th>0</th>\n",
       "      <td>20.690132</td>\n",
       "      <td>-103.445102</td>\n",
       "      <td>20.690132</td>\n",
       "      <td>-103.445102</td>\n",
       "    </tr>\n",
       "    <tr>\n",
       "      <th>1</th>\n",
       "      <td>20.690132</td>\n",
       "      <td>-103.445102</td>\n",
       "      <td>20.690132</td>\n",
       "      <td>-103.445102</td>\n",
       "    </tr>\n",
       "    <tr>\n",
       "      <th>2</th>\n",
       "      <td>20.690401</td>\n",
       "      <td>-103.446044</td>\n",
       "      <td>20.690132</td>\n",
       "      <td>-103.445102</td>\n",
       "    </tr>\n",
       "    <tr>\n",
       "      <th>3</th>\n",
       "      <td>20.690031</td>\n",
       "      <td>-103.445328</td>\n",
       "      <td>20.690401</td>\n",
       "      <td>-103.446044</td>\n",
       "    </tr>\n",
       "    <tr>\n",
       "      <th>4</th>\n",
       "      <td>20.690232</td>\n",
       "      <td>-103.444875</td>\n",
       "      <td>20.690031</td>\n",
       "      <td>-103.445328</td>\n",
       "    </tr>\n",
       "  </tbody>\n",
       "</table>\n",
       "</div>"
      ],
      "text/plain": [
       "   initial_lat  initial_lng  final_lat   final_lng\n",
       "0    20.690132  -103.445102  20.690132 -103.445102\n",
       "1    20.690132  -103.445102  20.690132 -103.445102\n",
       "2    20.690401  -103.446044  20.690132 -103.445102\n",
       "3    20.690031  -103.445328  20.690401 -103.446044\n",
       "4    20.690232  -103.444875  20.690031 -103.445328"
      ]
     },
     "execution_count": 33,
     "metadata": {},
     "output_type": "execute_result"
    }
   ],
   "source": [
    "\n",
    "latlon = pd.concat([\n",
    "    df[[\"lat\", \"lng\"]][1:].reset_index(drop=True),\n",
    "    df[[\"lat\", \"lng\"]][:-1].reset_index(drop=True)], \n",
    "    1)\n",
    "\n",
    "latlon.columns = [\"initial_lat\", \"initial_lng\", \"final_lat\", \"final_lng\"]\n",
    "latlon.head()"
   ]
  },
  {
   "cell_type": "code",
   "execution_count": 43,
   "metadata": {
    "collapsed": false
   },
   "outputs": [],
   "source": [
    "latlon[\"distance\"] = latlon.apply(harversine, 1)"
   ]
  },
  {
   "cell_type": "code",
   "execution_count": 58,
   "metadata": {
    "collapsed": false
   },
   "outputs": [
    {
     "data": {
      "image/png": "[encoded data removed]",
      "text/plain": [
       "<matplotlib.figure.Figure at 0x7f52b4892630>"
      ]
     },
     "metadata": {},
     "output_type": "display_data"
    }
   ],
   "source": [
    "latlon.query(\"5 < distance and distance < 30\").distance.plot.hist(bins=25)\n",
    "plt.title(\"Distance Histogram\")\n",
    "plt.xlabel(\"Meters\")\n",
    "plt.show()"
   ]
  },
  {
   "cell_type": "code",
   "execution_count": 62,
   "metadata": {
    "collapsed": false
   },
   "outputs": [],
   "source": [
    "df[\"distance\"] = [0] + list(latlon.distance.values)"
   ]
  },
  {
   "cell_type": "markdown",
   "metadata": {},
   "source": [
    "## TODO: MORE ANALYSIS"
   ]
  },
  {
   "cell_type": "code",
   "execution_count": 162,
   "metadata": {
    "collapsed": true
   },
   "outputs": [],
   "source": [
    "# here"
   ]
  },
  {
   "cell_type": "markdown",
   "metadata": {},
   "source": [
    "## Trips"
   ]
  },
  {
   "cell_type": "code",
   "execution_count": 105,
   "metadata": {
    "collapsed": false
   },
   "outputs": [
    {
     "data": {
      "text/html": [
       "<div>\n",
       "<style>\n",
       "    .dataframe thead tr:only-child th {\n",
       "        text-align: right;\n",
       "    }\n",
       "\n",
       "    .dataframe thead th {\n",
       "        text-align: left;\n",
       "    }\n",
       "\n",
       "    .dataframe tbody tr th {\n",
       "        vertical-align: top;\n",
       "    }\n",
       "</style>\n",
       "<table border=\"1\" class=\"dataframe\">\n",
       "  <thead>\n",
       "    <tr style=\"text-align: right;\">\n",
       "      <th></th>\n",
       "      <th>EXITING_VEHICLE</th>\n",
       "      <th>IN_VEHICLE</th>\n",
       "      <th>ON_BICYCLE</th>\n",
       "      <th>ON_FOOT</th>\n",
       "      <th>RUNNING</th>\n",
       "      <th>STILL</th>\n",
       "      <th>TILTING</th>\n",
       "      <th>UNKNOWN</th>\n",
       "      <th>WALKING</th>\n",
       "      <th>accuracy</th>\n",
       "      <th>alt</th>\n",
       "      <th>lat</th>\n",
       "      <th>likely_activity</th>\n",
       "      <th>lng</th>\n",
       "      <th>timestamp</th>\n",
       "      <th>distance</th>\n",
       "    </tr>\n",
       "  </thead>\n",
       "  <tbody>\n",
       "    <tr>\n",
       "      <th>511357</th>\n",
       "      <td>0</td>\n",
       "      <td>37</td>\n",
       "      <td>0</td>\n",
       "      <td>0</td>\n",
       "      <td>0</td>\n",
       "      <td>32</td>\n",
       "      <td>0</td>\n",
       "      <td>31</td>\n",
       "      <td>0</td>\n",
       "      <td>39</td>\n",
       "      <td>NaN</td>\n",
       "      <td>20.690218</td>\n",
       "      <td>IN_VEHICLE</td>\n",
       "      <td>-103.445684</td>\n",
       "      <td>1415734834967</td>\n",
       "      <td>0.000000</td>\n",
       "    </tr>\n",
       "    <tr>\n",
       "      <th>511356</th>\n",
       "      <td>0</td>\n",
       "      <td>42</td>\n",
       "      <td>8</td>\n",
       "      <td>0</td>\n",
       "      <td>0</td>\n",
       "      <td>16</td>\n",
       "      <td>0</td>\n",
       "      <td>35</td>\n",
       "      <td>0</td>\n",
       "      <td>27</td>\n",
       "      <td>NaN</td>\n",
       "      <td>20.690031</td>\n",
       "      <td>IN_VEHICLE</td>\n",
       "      <td>-103.445328</td>\n",
       "      <td>1415734960986</td>\n",
       "      <td>0.042494</td>\n",
       "    </tr>\n",
       "    <tr>\n",
       "      <th>511344</th>\n",
       "      <td>0</td>\n",
       "      <td>33</td>\n",
       "      <td>6</td>\n",
       "      <td>2</td>\n",
       "      <td>0</td>\n",
       "      <td>6</td>\n",
       "      <td>0</td>\n",
       "      <td>2</td>\n",
       "      <td>0</td>\n",
       "      <td>27</td>\n",
       "      <td>NaN</td>\n",
       "      <td>20.690031</td>\n",
       "      <td>IN_VEHICLE</td>\n",
       "      <td>-103.445328</td>\n",
       "      <td>1415735715772</td>\n",
       "      <td>0.070271</td>\n",
       "    </tr>\n",
       "    <tr>\n",
       "      <th>511315</th>\n",
       "      <td>0</td>\n",
       "      <td>27</td>\n",
       "      <td>4</td>\n",
       "      <td>6</td>\n",
       "      <td>0</td>\n",
       "      <td>16</td>\n",
       "      <td>0</td>\n",
       "      <td>2</td>\n",
       "      <td>0</td>\n",
       "      <td>27</td>\n",
       "      <td>NaN</td>\n",
       "      <td>20.689784</td>\n",
       "      <td>IN_VEHICLE</td>\n",
       "      <td>-103.444707</td>\n",
       "      <td>1415739466127</td>\n",
       "      <td>0.000000</td>\n",
       "    </tr>\n",
       "    <tr>\n",
       "      <th>511293</th>\n",
       "      <td>0</td>\n",
       "      <td>18</td>\n",
       "      <td>12</td>\n",
       "      <td>2</td>\n",
       "      <td>0</td>\n",
       "      <td>10</td>\n",
       "      <td>0</td>\n",
       "      <td>2</td>\n",
       "      <td>0</td>\n",
       "      <td>27</td>\n",
       "      <td>NaN</td>\n",
       "      <td>20.690032</td>\n",
       "      <td>IN_VEHICLE</td>\n",
       "      <td>-103.445328</td>\n",
       "      <td>1415742128872</td>\n",
       "      <td>0.000000</td>\n",
       "    </tr>\n",
       "  </tbody>\n",
       "</table>\n",
       "</div>"
      ],
      "text/plain": [
       "        EXITING_VEHICLE  IN_VEHICLE  ON_BICYCLE  ON_FOOT  RUNNING  STILL  \\\n",
       "511357                0          37           0        0        0     32   \n",
       "511356                0          42           8        0        0     16   \n",
       "511344                0          33           6        2        0      6   \n",
       "511315                0          27           4        6        0     16   \n",
       "511293                0          18          12        2        0     10   \n",
       "\n",
       "        TILTING  UNKNOWN  WALKING  accuracy  alt        lat likely_activity  \\\n",
       "511357        0       31        0        39  NaN  20.690218      IN_VEHICLE   \n",
       "511356        0       35        0        27  NaN  20.690031      IN_VEHICLE   \n",
       "511344        0        2        0        27  NaN  20.690031      IN_VEHICLE   \n",
       "511315        0        2        0        27  NaN  20.689784      IN_VEHICLE   \n",
       "511293        0        2        0        27  NaN  20.690032      IN_VEHICLE   \n",
       "\n",
       "               lng      timestamp  distance  \n",
       "511357 -103.445684  1415734834967  0.000000  \n",
       "511356 -103.445328  1415734960986  0.042494  \n",
       "511344 -103.445328  1415735715772  0.070271  \n",
       "511315 -103.444707  1415739466127  0.000000  \n",
       "511293 -103.445328  1415742128872  0.000000  "
      ]
     },
     "execution_count": 105,
     "metadata": {},
     "output_type": "execute_result"
    }
   ],
   "source": [
    "driving_df = df.query(\"likely_activity == 'IN_VEHICLE'\").copy()\n",
    "driving_df.head()"
   ]
  },
  {
   "cell_type": "code",
   "execution_count": 106,
   "metadata": {
    "collapsed": false
   },
   "outputs": [
    {
     "data": {
      "image/png": "[encoded data removed]",
      "text/plain": [
       "<matplotlib.figure.Figure at 0x7f52b362eba8>"
      ]
     },
     "metadata": {},
     "output_type": "display_data"
    }
   ],
   "source": [
    "driving_df[\"delta_time\"] = [0] + list(driving_df.timestamp.values[1:] - driving_df.timestamp.values[:-1])\n",
    "\n",
    "driving_df.query(\"0 < delta_time and delta_time < 30000\").delta_time.plot.hist()\n",
    "plt.title(\"Time between driving datapoints (query < 30s)\")\n",
    "plt.xlabel(\"ms\")\n",
    "plt.show()"
   ]
  },
  {
   "cell_type": "code",
   "execution_count": 123,
   "metadata": {
    "collapsed": false
   },
   "outputs": [
    {
     "name": "stdout",
     "output_type": "stream",
     "text": [
      "Number of unique trips: 9089\n"
     ]
    }
   ],
   "source": [
    "driving_df[\"trip_id\"] = np.cumsum(driving_df.delta_time.values > 7*60*1000)\n",
    "print(\"Number of unique trips: {}\".format(len(driving_df.trip_id.unique())))"
   ]
  },
  {
   "cell_type": "code",
   "execution_count": 146,
   "metadata": {
    "collapsed": false
   },
   "outputs": [
    {
     "data": {
      "image/png": "[encoded data removed]",
      "text/plain": [
       "<matplotlib.figure.Figure at 0x7f52a9812fd0>"
      ]
     },
     "metadata": {},
     "output_type": "display_data"
    }
   ],
   "source": [
    "tripid = 9001 # random.choice(driving_df.trip_id.unique())\n",
    "driving_df.query(\"trip_id == {}\".format(9001)).plot.scatter(x=\"lng\", y=\"lat\")\n",
    "plt.title(\"Trip\")\n",
    "plt.show()"
   ]
  },
  {
   "cell_type": "code",
   "execution_count": 197,
   "metadata": {
    "collapsed": false
   },
   "outputs": [],
   "source": [
    "def distance_df(trip_data):\n",
    "    temp = pd.concat([\n",
    "        trip_data[[\"lat\", \"lng\"]][1:].reset_index(drop=True),\n",
    "        trip_data[[\"lat\", \"lng\"]][:-1].reset_index(drop=True)], \n",
    "        1)\n",
    "    temp.columns = [\"initial_lat\", \"initial_lng\", \"final_lat\", \"final_lng\"]\n",
    "    return temp\n",
    "\n",
    "trips = pd.DataFrame([], columns=[\"id\", \"distance\", \"time\", \"lat\", \"lng\"])\n",
    "\n",
    "ids = []\n",
    "distance = []\n",
    "time = []\n",
    "lats = []\n",
    "lngs = []\n",
    "deleted_trips = 0\n",
    "for trip in driving_df.trip_id.unique():\n",
    "    trip_data = driving_df.query(\"trip_id == {}\".format(trip))\n",
    "    if len(trip_data)  < 5:\n",
    "        deleted_trips += 1\n",
    "        continue\n",
    "    distance.append(distance_df(trip_data).apply(harversine, 1).sum())\n",
    "    time.append(trip_data.timestamp.values[-1] - trip_data.timestamp.values[0])\n",
    "    ids.append(trip)\n",
    "    lats.append(trip_data.lat.values)\n",
    "    lngs.append(trip_data.lng.values)\n",
    "    \n",
    "trips[\"id\"] = ids\n",
    "trips[\"distance\"] = distance\n",
    "trips[\"time\"] = time\n",
    "trips[\"lat\"] = lats\n",
    "trips[\"lng\"] = lngs"
   ]
  },
  {
   "cell_type": "code",
   "execution_count": 203,
   "metadata": {
    "collapsed": false
   },
   "outputs": [
    {
     "name": "stdout",
     "output_type": "stream",
     "text": [
      "Valid trips: 2689\n"
     ]
    },
    {
     "data": {
      "text/html": [
       "<div>\n",
       "<style>\n",
       "    .dataframe thead tr:only-child th {\n",
       "        text-align: right;\n",
       "    }\n",
       "\n",
       "    .dataframe thead th {\n",
       "        text-align: left;\n",
       "    }\n",
       "\n",
       "    .dataframe tbody tr th {\n",
       "        vertical-align: top;\n",
       "    }\n",
       "</style>\n",
       "<table border=\"1\" class=\"dataframe\">\n",
       "  <thead>\n",
       "    <tr style=\"text-align: right;\">\n",
       "      <th></th>\n",
       "      <th>id</th>\n",
       "      <th>distance</th>\n",
       "      <th>time</th>\n",
       "      <th>lat</th>\n",
       "      <th>lng</th>\n",
       "      <th>n_datapoints</th>\n",
       "    </tr>\n",
       "  </thead>\n",
       "  <tbody>\n",
       "    <tr>\n",
       "      <th>0</th>\n",
       "      <td>8</td>\n",
       "      <td>0.841810</td>\n",
       "      <td>654117</td>\n",
       "      <td>[20.6904019, 20.6901424, 20.6901424, 20.690142...</td>\n",
       "      <td>[-103.4460443, -103.4455219, -103.4455219, -10...</td>\n",
       "      <td>6</td>\n",
       "    </tr>\n",
       "    <tr>\n",
       "      <th>1</th>\n",
       "      <td>17</td>\n",
       "      <td>1.027902</td>\n",
       "      <td>656394</td>\n",
       "      <td>[20.6079754, 20.6144566, 20.6144566, 20.614456...</td>\n",
       "      <td>[-103.4168693, -103.4239116, -103.4239116, -10...</td>\n",
       "      <td>5</td>\n",
       "    </tr>\n",
       "    <tr>\n",
       "      <th>2</th>\n",
       "      <td>21</td>\n",
       "      <td>0.000000</td>\n",
       "      <td>623161</td>\n",
       "      <td>[20.6904012, 20.6904012, 20.6904012, 20.690401...</td>\n",
       "      <td>[-103.4460442, -103.4460442, -103.4460442, -10...</td>\n",
       "      <td>5</td>\n",
       "    </tr>\n",
       "    <tr>\n",
       "      <th>3</th>\n",
       "      <td>24</td>\n",
       "      <td>0.061337</td>\n",
       "      <td>800407</td>\n",
       "      <td>[20.6062196, 20.6063649, 20.6062775, 20.606017...</td>\n",
       "      <td>[-103.4157996, -103.4158305, -103.415802, -103...</td>\n",
       "      <td>5</td>\n",
       "    </tr>\n",
       "    <tr>\n",
       "      <th>4</th>\n",
       "      <td>28</td>\n",
       "      <td>0.000000</td>\n",
       "      <td>767679</td>\n",
       "      <td>[20.6080048, 20.6080048, 20.6080048, 20.608004...</td>\n",
       "      <td>[-103.4158311, -103.4158311, -103.4158311, -10...</td>\n",
       "      <td>6</td>\n",
       "    </tr>\n",
       "    <tr>\n",
       "      <th>5</th>\n",
       "      <td>37</td>\n",
       "      <td>7.958452</td>\n",
       "      <td>500853</td>\n",
       "      <td>[20.6899792, 20.6899792, 20.6899792, 20.652865...</td>\n",
       "      <td>[-103.4450515, -103.4450515, -103.4450515, -10...</td>\n",
       "      <td>5</td>\n",
       "    </tr>\n",
       "    <tr>\n",
       "      <th>6</th>\n",
       "      <td>47</td>\n",
       "      <td>0.000000</td>\n",
       "      <td>830711</td>\n",
       "      <td>[20.6075488, 20.6075488, 20.6075488, 20.607548...</td>\n",
       "      <td>[-103.4166765, -103.4166765, -103.4166765, -10...</td>\n",
       "      <td>6</td>\n",
       "    </tr>\n",
       "    <tr>\n",
       "      <th>7</th>\n",
       "      <td>61</td>\n",
       "      <td>0.000000</td>\n",
       "      <td>764567</td>\n",
       "      <td>[20.6901821, 20.6901821, 20.6901821, 20.690182...</td>\n",
       "      <td>[-103.4453106, -103.4453106, -103.4453106, -10...</td>\n",
       "      <td>6</td>\n",
       "    </tr>\n",
       "    <tr>\n",
       "      <th>8</th>\n",
       "      <td>81</td>\n",
       "      <td>9.578160</td>\n",
       "      <td>803325</td>\n",
       "      <td>[20.6901701, 20.6901701, 20.6901701, 20.690170...</td>\n",
       "      <td>[-103.4453043, -103.4453043, -103.4453043, -10...</td>\n",
       "      <td>5</td>\n",
       "    </tr>\n",
       "    <tr>\n",
       "      <th>9</th>\n",
       "      <td>92</td>\n",
       "      <td>0.010371</td>\n",
       "      <td>867887</td>\n",
       "      <td>[20.6977508, 20.6977148, 20.6977111, 20.697693...</td>\n",
       "      <td>[-103.3844026, -103.3844142, -103.384399, -103...</td>\n",
       "      <td>7</td>\n",
       "    </tr>\n",
       "  </tbody>\n",
       "</table>\n",
       "</div>"
      ],
      "text/plain": [
       "   id  distance    time                                                lat  \\\n",
       "0   8  0.841810  654117  [20.6904019, 20.6901424, 20.6901424, 20.690142...   \n",
       "1  17  1.027902  656394  [20.6079754, 20.6144566, 20.6144566, 20.614456...   \n",
       "2  21  0.000000  623161  [20.6904012, 20.6904012, 20.6904012, 20.690401...   \n",
       "3  24  0.061337  800407  [20.6062196, 20.6063649, 20.6062775, 20.606017...   \n",
       "4  28  0.000000  767679  [20.6080048, 20.6080048, 20.6080048, 20.608004...   \n",
       "5  37  7.958452  500853  [20.6899792, 20.6899792, 20.6899792, 20.652865...   \n",
       "6  47  0.000000  830711  [20.6075488, 20.6075488, 20.6075488, 20.607548...   \n",
       "7  61  0.000000  764567  [20.6901821, 20.6901821, 20.6901821, 20.690182...   \n",
       "8  81  9.578160  803325  [20.6901701, 20.6901701, 20.6901701, 20.690170...   \n",
       "9  92  0.010371  867887  [20.6977508, 20.6977148, 20.6977111, 20.697693...   \n",
       "\n",
       "                                                 lng  n_datapoints  \n",
       "0  [-103.4460443, -103.4455219, -103.4455219, -10...             6  \n",
       "1  [-103.4168693, -103.4239116, -103.4239116, -10...             5  \n",
       "2  [-103.4460442, -103.4460442, -103.4460442, -10...             5  \n",
       "3  [-103.4157996, -103.4158305, -103.415802, -103...             5  \n",
       "4  [-103.4158311, -103.4158311, -103.4158311, -10...             6  \n",
       "5  [-103.4450515, -103.4450515, -103.4450515, -10...             5  \n",
       "6  [-103.4166765, -103.4166765, -103.4166765, -10...             6  \n",
       "7  [-103.4453106, -103.4453106, -103.4453106, -10...             6  \n",
       "8  [-103.4453043, -103.4453043, -103.4453043, -10...             5  \n",
       "9  [-103.3844026, -103.3844142, -103.384399, -103...             7  "
      ]
     },
     "execution_count": 203,
     "metadata": {},
     "output_type": "execute_result"
    }
   ],
   "source": [
    "print(\"Valid trips: {}\".format(len(trips)))\n",
    "trips[\"n_datapoints\"] = trips.apply(lambda x: len(x[\"lat\"]), 1).values\n",
    "trips.head(10)"
   ]
  },
  {
   "cell_type": "code",
   "execution_count": 184,
   "metadata": {
    "collapsed": false
   },
   "outputs": [
    {
     "data": {
      "image/png": "[encoded data removed]",
      "text/plain": [
       "<matplotlib.figure.Figure at 0x7f52baae3588>"
      ]
     },
     "metadata": {},
     "output_type": "display_data"
    }
   ],
   "source": [
    "# trip distance\n",
    "\n",
    "trips.query(\"0 < distance and distance < 50\").distance.plot.hist(bins=20)\n",
    "plt.title(\"Trip distance histogram\")\n",
    "plt.xlabel(\"km\")\n",
    "plt.show()"
   ]
  },
  {
   "cell_type": "code",
   "execution_count": 195,
   "metadata": {
    "collapsed": false
   },
   "outputs": [
    {
     "data": {
      "image/png": "[encoded data removed]",
      "text/plain": [
       "<matplotlib.figure.Figure at 0x7f52b9c86710>"
      ]
     },
     "metadata": {},
     "output_type": "display_data"
    }
   ],
   "source": [
    "# trip distance\n",
    "\n",
    "trips.query(\"0 < time and time < 3000000\").time.plot.hist(bins=20)\n",
    "plt.title(\"Trip time histogram\")\n",
    "plt.xlabel(\"ms\")\n",
    "plt.show()"
   ]
  },
  {
   "cell_type": "code",
   "execution_count": null,
   "metadata": {
    "collapsed": true
   },
   "outputs": [],
   "source": []
  }
 ],
 "metadata": {
  "kernelspec": {
   "display_name": "Python 3",
   "language": "python",
   "name": "python3"
  },
  "language_info": {
   "codemirror_mode": {
    "name": "ipython",
    "version": 3
   },
   "file_extension": ".py",
   "mimetype": "text/x-python",
   "name": "python",
   "nbconvert_exporter": "python",
   "pygments_lexer": "ipython3",
   "version": "3.6.1"
  }
 },
 "nbformat": 4,
 "nbformat_minor": 2
}
